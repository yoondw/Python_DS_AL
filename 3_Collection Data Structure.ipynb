{
 "cells": [
  {
   "cell_type": "code",
   "execution_count": 7,
   "metadata": {},
   "outputs": [
    {
     "name": "stdout",
     "output_type": "stream",
     "text": [
      "{'Josie', 'Claudio', 'Julia', 'Paul', 'Jin'}\n",
      "{'Josie', 'Claudio', 'Julia', 'King', 'Paul', 'Jin'}\n",
      "{'King', 'Josie', 'Paul', 'Jin', 'Claudio', 'Chole', 'Julia'}\n",
      "{'Josie'}\n",
      "{'Claudio', 'King', 'Julia', 'Paul', 'Jin'}\n",
      "{'Josie', 'Claudio', 'King', 'Paul', 'Jin'}\n"
     ]
    }
   ],
   "source": [
    "# Set Methods\n",
    "\n",
    "people = {'Claudio','Paul','Josie','Julia'}\n",
    "people.add('Jin')\n",
    "print(people)\n",
    "\n",
    "people.update({'Paul','King'})\n",
    "print(people)\n",
    "\n",
    "people2 = {'Josie','Chole'}\n",
    "print(people.union(people2))\n",
    "print(people.intersection(people2))\n",
    "print(people.difference(people2))\n",
    "\n",
    "people2.clear()\n",
    "\n",
    "people.discard('Julia')\n",
    "print(people)"
   ]
  },
  {
   "cell_type": "code",
   "execution_count": 8,
   "metadata": {},
   "outputs": [
    {
     "name": "stdout",
     "output_type": "stream",
     "text": [
      "{'name': 'bong jun ho', 'job': 'director'}\n",
      "{'name': 'Bong Jun Ho', 'job': 'director', 'sex': 'Male'}\n",
      "Male\n",
      "dict_items([('name', 'Bong Jun Ho'), ('job', 'director'), ('sex', 'Male')])\n",
      "dict_keys(['name', 'job', 'sex'])\n",
      "dict_values(['Bong Jun Ho', 'director', 'Male'])\n"
     ]
    }
   ],
   "source": [
    "# Dictionary\n",
    "\n",
    "bong = {}\n",
    "bong['name'] = 'bong jun ho'\n",
    "bong['job'] = 'director'\n",
    "print(bong)\n",
    "\n",
    "bong.update({'name' : 'Bong Jun Ho'})\n",
    "bong.update({'sex' : 'Male'})\n",
    "print(bong)\n",
    "\n",
    "print(bong.get('sex'))\n",
    "print(bong.items())\n",
    "print(bong.keys())\n",
    "print(bong.values())"
   ]
  },
  {
   "cell_type": "code",
   "execution_count": 10,
   "metadata": {},
   "outputs": [
    {
     "name": "stdout",
     "output_type": "stream",
     "text": [
      "Counter({5: 4, 1: 3, 2: 3, 4: 2, 3: 1})\n",
      "Counter({1: 4, 2: 4, 5: 4, 3: 2, 4: 2})\n",
      "Counter({1: 5, 2: 4, 5: 4, 3: 3, 4: 3})\n",
      "Counter({1: 1, 4: 1, 3: 1})\n",
      "Counter({1: 6, 2: 4, 3: 4, 4: 4, 5: 4})\n",
      "Counter({1: 4, 2: 4, 5: 4, 3: 2, 4: 2})\n"
     ]
    }
   ],
   "source": [
    "# Counter Example\n",
    "\n",
    "from collections import Counter\n",
    "\n",
    "def count_example():\n",
    "    seq1 = [1,2,3,4,5,1,2,5,5,2,5,1,4]\n",
    "    seq_counts = Counter(seq1)\n",
    "    print(seq_counts)\n",
    "    \n",
    "    seq2 = [1,2,3]\n",
    "    seq_counts.update(seq2)\n",
    "    print(seq_counts)\n",
    "    \n",
    "    seq3 = [1,4,3]\n",
    "    for key in seq3:\n",
    "        seq_counts[key] += 1\n",
    "    print(seq_counts)\n",
    "    \n",
    "    seq_counts2 = Counter(seq3)\n",
    "    print(seq_counts2)\n",
    "    print(seq_counts + seq_counts2)\n",
    "    print(seq_counts - seq_counts2)\n",
    "    \n",
    "count_example()"
   ]
  },
  {
   "cell_type": "code",
   "execution_count": 12,
   "metadata": {},
   "outputs": [
    {
     "data": {
      "text/plain": [
       "[('A', 4), ('I', 4), ('D', 4), ('K', 3)]"
      ]
     },
     "execution_count": 12,
     "metadata": {},
     "output_type": "execute_result"
    }
   ],
   "source": [
    "# Counter의 most_common() method 사용법\n",
    "# 문자열에서 가장 많이 나오는 단어와 그 횟수 찾아보기\n",
    "\n",
    "from collections import Counter\n",
    "\n",
    "def find_top_recurring_words(seq, n):\n",
    "    dcounter = Counter()\n",
    "    for word in seq.split():\n",
    "        dcounter[word] += 1\n",
    "    return dcounter.most_common(n)\n",
    "\n",
    "seq = 'A B K J I K M J I S D A A B C D E F G Q Q E R F S J I I K F D S A D'\n",
    "find_top_recurring_words(seq, 4)"
   ]
  },
  {
   "cell_type": "code",
   "execution_count": null,
   "metadata": {},
   "outputs": [],
   "source": []
  }
 ],
 "metadata": {
  "kernelspec": {
   "display_name": "Python 3",
   "language": "python",
   "name": "python3"
  },
  "language_info": {
   "codemirror_mode": {
    "name": "ipython",
    "version": 3
   },
   "file_extension": ".py",
   "mimetype": "text/x-python",
   "name": "python",
   "nbconvert_exporter": "python",
   "pygments_lexer": "ipython3",
   "version": "3.7.4"
  }
 },
 "nbformat": 4,
 "nbformat_minor": 2
}
