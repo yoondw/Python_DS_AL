{
 "cells": [
  {
   "cell_type": "code",
   "execution_count": 5,
   "metadata": {},
   "outputs": [
    {
     "data": {
      "text/plain": [
       "({'Aris', 'Bennet', 'Chris'}, {'Bennet'})"
      ]
     },
     "execution_count": 5,
     "metadata": {},
     "output_type": "execute_result"
    }
   ],
   "source": [
    "people = {'Aris', 'Bennet', 'Chris'}\n",
    "slayers = people.copy()\n",
    "slayers.discard('Aris')\n",
    "slayers.remove('Chris')\n",
    "people, slayers"
   ]
  },
  {
   "cell_type": "code",
   "execution_count": 6,
   "metadata": {},
   "outputs": [
    {
     "data": {
      "text/plain": [
       "(True, True, True, True)"
      ]
     },
     "execution_count": 6,
     "metadata": {},
     "output_type": "execute_result"
    }
   ],
   "source": [
    "import copy\n",
    "myObj  ='Something'\n",
    "newObj = copy.copy(myObj) # Shallow copy\n",
    "newObj2 = copy.deepcopy(myObj) # Deep copy\n",
    "\n",
    "myObj == newObj, myObj == newObj2, myObj is newObj, myObj is newObj2"
   ]
  },
  {
   "cell_type": "code",
   "execution_count": 7,
   "metadata": {},
   "outputs": [
    {
     "name": "stdout",
     "output_type": "stream",
     "text": [
      "! e re! Beware of Vampi B\n"
     ]
    }
   ],
   "source": [
    "word = 'Beware of Vampire!'\n",
    "print(word[-1], word[-2], word[-3:], word[:-3], word[-0])"
   ]
  },
  {
   "cell_type": "code",
   "execution_count": 8,
   "metadata": {},
   "outputs": [
    {
     "name": "stdout",
     "output_type": "stream",
     "text": [
      "LOL and MapleStory LOL-and-MapleStory\n"
     ]
    }
   ],
   "source": [
    "game = ['LOL','and','MapleStory']\n",
    "print(\" \".join(game), \"-\".join(game))"
   ]
  },
  {
   "cell_type": "code",
   "execution_count": 9,
   "metadata": {},
   "outputs": [
    {
     "data": {
      "text/plain": [
       "'Scarlet-----------------------'"
      ]
     },
     "execution_count": 9,
     "metadata": {},
     "output_type": "execute_result"
    }
   ],
   "source": [
    "name = 'Scarlet'\n",
    "name.ljust(30,'-')"
   ]
  },
  {
   "cell_type": "code",
   "execution_count": 10,
   "metadata": {},
   "outputs": [
    {
     "data": {
      "text/plain": [
       "'-----------------------Scarlet'"
      ]
     },
     "execution_count": 10,
     "metadata": {},
     "output_type": "execute_result"
    }
   ],
   "source": [
    "name.rjust(30,'-')"
   ]
  },
  {
   "cell_type": "code",
   "execution_count": 11,
   "metadata": {},
   "outputs": [
    {
     "data": {
      "text/plain": [
       "'a,b'"
      ]
     },
     "execution_count": 11,
     "metadata": {},
     "output_type": "execute_result"
    }
   ],
   "source": [
    "'{0},{1}'.format('a','b')"
   ]
  },
  {
   "cell_type": "code",
   "execution_count": 12,
   "metadata": {},
   "outputs": [
    {
     "data": {
      "text/plain": [
       "'name : Chris, age : 20'"
      ]
     },
     "execution_count": 12,
     "metadata": {},
     "output_type": "execute_result"
    }
   ],
   "source": [
    "'name : {name}, age : {age}'.format(name='Chris',age=20)"
   ]
  },
  {
   "cell_type": "code",
   "execution_count": 13,
   "metadata": {},
   "outputs": [
    {
     "data": {
      "text/plain": [
       "'Py th on'"
      ]
     },
     "execution_count": 13,
     "metadata": {},
     "output_type": "execute_result"
    }
   ],
   "source": [
    "'{} {} {}'.format('Py','th','on')"
   ]
  },
  {
   "cell_type": "code",
   "execution_count": 14,
   "metadata": {},
   "outputs": [
    {
     "data": {
      "text/plain": [
       "['Today', 'is', 'March', '7th']"
      ]
     },
     "execution_count": 14,
     "metadata": {},
     "output_type": "execute_result"
    }
   ],
   "source": [
    "sent = 'Today is March 7th'\n",
    "sent.split(' ')"
   ]
  },
  {
   "cell_type": "code",
   "execution_count": 15,
   "metadata": {},
   "outputs": [
    {
     "data": {
      "text/plain": [
       "['Tod', 'y is M', 'rch 7th']"
      ]
     },
     "execution_count": 15,
     "metadata": {},
     "output_type": "execute_result"
    }
   ],
   "source": [
    "sent.split('a')"
   ]
  },
  {
   "cell_type": "code",
   "execution_count": 16,
   "metadata": {},
   "outputs": [
    {
     "data": {
      "text/plain": [
       "'I am tired'"
      ]
     },
     "execution_count": 16,
     "metadata": {},
     "output_type": "execute_result"
    }
   ],
   "source": [
    "blank = '   I am tired   '\n",
    "blank.strip(' ')"
   ]
  },
  {
   "cell_type": "code",
   "execution_count": 17,
   "metadata": {},
   "outputs": [
    {
     "data": {
      "text/plain": [
       "'I am tired'"
      ]
     },
     "execution_count": 17,
     "metadata": {},
     "output_type": "execute_result"
    }
   ],
   "source": [
    "blank.strip()"
   ]
  },
  {
   "cell_type": "code",
   "execution_count": 19,
   "metadata": {},
   "outputs": [
    {
     "data": {
      "text/plain": [
       "'aBcDeFgHiJkLmNoP'"
      ]
     },
     "execution_count": 19,
     "metadata": {},
     "output_type": "execute_result"
    }
   ],
   "source": [
    "cap = 'AbCdEfGhIjKlMnOp'\n",
    "cap.swapcase()"
   ]
  },
  {
   "cell_type": "code",
   "execution_count": 20,
   "metadata": {},
   "outputs": [
    {
     "data": {
      "text/plain": [
       "(2, 6, 12)"
      ]
     },
     "execution_count": 20,
     "metadata": {},
     "output_type": "execute_result"
    }
   ],
   "source": [
    "nba = 'Milwakee vs Los Angeles'\n",
    "nba.find('l'),nba.find('e'),nba.index('L')"
   ]
  },
  {
   "cell_type": "code",
   "execution_count": 22,
   "metadata": {},
   "outputs": [
    {
     "data": {
      "text/plain": [
       "(4, 2)"
      ]
     },
     "execution_count": 22,
     "metadata": {},
     "output_type": "execute_result"
    }
   ],
   "source": [
    "nba.count('e'), nba.count('e',0,10)"
   ]
  },
  {
   "cell_type": "code",
   "execution_count": 25,
   "metadata": {},
   "outputs": [
    {
     "data": {
      "text/plain": [
       "tuple"
      ]
     },
     "execution_count": 25,
     "metadata": {},
     "output_type": "execute_result"
    }
   ],
   "source": [
    "tp = 1,2,3,4,5,6,7,8,9\n",
    "type(tp)"
   ]
  },
  {
   "cell_type": "code",
   "execution_count": 26,
   "metadata": {},
   "outputs": [
    {
     "data": {
      "text/plain": [
       "(1, 6)"
      ]
     },
     "execution_count": 26,
     "metadata": {},
     "output_type": "execute_result"
    }
   ],
   "source": [
    "tp.count(3),tp.index(7)"
   ]
  },
  {
   "cell_type": "code",
   "execution_count": 27,
   "metadata": {},
   "outputs": [
    {
     "data": {
      "text/plain": [
       "(1, [2, 3, 4])"
      ]
     },
     "execution_count": 27,
     "metadata": {},
     "output_type": "execute_result"
    }
   ],
   "source": [
    "# tuple unpacking\n",
    "\n",
    "x, *y = (1, 2, 3, 4)\n",
    "x, y"
   ]
  },
  {
   "cell_type": "code",
   "execution_count": 28,
   "metadata": {},
   "outputs": [
    {
     "data": {
      "text/plain": [
       "([1, 2, 3], 4)"
      ]
     },
     "execution_count": 28,
     "metadata": {},
     "output_type": "execute_result"
    }
   ],
   "source": [
    "*x, y = (1, 2, 3, 4)\n",
    "x, y"
   ]
  },
  {
   "cell_type": "code",
   "execution_count": 36,
   "metadata": {},
   "outputs": [
    {
     "data": {
      "text/plain": [
       "(Person(name='Andy', age=15, gender='male'), 'Andy', 15, 'male')"
      ]
     },
     "execution_count": 36,
     "metadata": {},
     "output_type": "execute_result"
    }
   ],
   "source": [
    "# namedtuple module\n",
    "\n",
    "# import collections\n",
    "# Person = collections.namedtuple('Person', 'name age gender')\n",
    "\n",
    "from collections import namedtuple as nt\n",
    "Person = nt('Person', 'name age gender')\n",
    "p = Person('Andy', 15, 'male')\n",
    "p, p.name, p.age, p.gender"
   ]
  },
  {
   "cell_type": "code",
   "execution_count": 37,
   "metadata": {},
   "outputs": [
    {
     "data": {
      "text/plain": [
       "([2, 3, 50], [1, [2, 3, 50], 4])"
      ]
     },
     "execution_count": 37,
     "metadata": {},
     "output_type": "execute_result"
    }
   ],
   "source": [
    "p = [2, 3]\n",
    "q = [1, p, 4]\n",
    "q[1].append(50)\n",
    "p, q"
   ]
  },
  {
   "cell_type": "code",
   "execution_count": 3,
   "metadata": {},
   "outputs": [
    {
     "name": "stdout",
     "output_type": "stream",
     "text": [
      "['Bruce', 'Josie', 'Eddy', 'Geese', 'Claudio']\n",
      "['Bruce', 'Josie', 'Eddy', 'Geese', 'Claudio', 'P', 'a', 'u', 'l']\n",
      "['Bruce', 'Josie', 'Anna', 'Eddy', 'Geese', 'Claudio', 'P', 'a', 'u', 'l']\n",
      "['Bruce', 'Josie', 'Anna', 'Eddy', 'Claudio', 'P', 'a', 'u', 'l']\n",
      "['Bruce', 'Josie', 'Anna', 'Eddy', 'Claudio', 'a', 'u']\n",
      "4\n",
      "1\n",
      "['Anna', 'Bruce', 'Claudio', 'Eddy', 'Josie', 'a', 'u']\n",
      "['u', 'a', 'Josie', 'Eddy', 'Claudio', 'Bruce', 'Anna']\n"
     ]
    }
   ],
   "source": [
    "people = ['Bruce','Josie','Eddy','Geese']\n",
    "people.append('Claudio')\n",
    "print(people)\n",
    "people.extend('Paul')\n",
    "print(people)\n",
    "people.insert(2,'Anna')\n",
    "print(people)\n",
    "people.remove('Geese')\n",
    "print(people)\n",
    "people.pop(5)\n",
    "people.pop()\n",
    "print(people)\n",
    "print(people.index('Claudio'))\n",
    "print(people.count('a'))\n",
    "people.sort()\n",
    "print(people)\n",
    "people.reverse()\n",
    "print(people)"
   ]
  },
  {
   "cell_type": "code",
   "execution_count": 4,
   "metadata": {},
   "outputs": [
    {
     "name": "stdout",
     "output_type": "stream",
     "text": [
      "A ['B', 'C', 'D', 'E']\n"
     ]
    }
   ],
   "source": [
    "one, *rest = ['A','B','C','D','E']\n",
    "print(one, rest)"
   ]
  },
  {
   "cell_type": "code",
   "execution_count": 5,
   "metadata": {},
   "outputs": [
    {
     "data": {
      "text/plain": [
       "([200, 201, 202, 203, 204], [1, 2, 4, 8, 16])"
      ]
     },
     "execution_count": 5,
     "metadata": {},
     "output_type": "execute_result"
    }
   ],
   "source": [
    "a = [y for y in range(200,205)]\n",
    "b = [2**i for i in range(5)]\n",
    "a,b"
   ]
  },
  {
   "cell_type": "code",
   "execution_count": 6,
   "metadata": {},
   "outputs": [
    {
     "name": "stdout",
     "output_type": "stream",
     "text": [
      "65536 0\n"
     ]
    }
   ],
   "source": [
    "k = 16\n",
    "print(1 << k, k & (k - 1))"
   ]
  },
  {
   "cell_type": "code",
   "execution_count": 9,
   "metadata": {},
   "outputs": [
    {
     "data": {
      "text/plain": [
       "('sdneirF olleH', 'sdneirF olleH')"
      ]
     },
     "execution_count": 9,
     "metadata": {},
     "output_type": "execute_result"
    }
   ],
   "source": [
    "def revert(s):\n",
    "    if s:\n",
    "        s = s[-1] + revert(s[:-1])\n",
    "    return s\n",
    "\n",
    "def revert2(s):\n",
    "    return s[::-1]\n",
    "\n",
    "string = 'Hello Friends'\n",
    "revert(string), revert2(string)"
   ]
  },
  {
   "cell_type": "code",
   "execution_count": 11,
   "metadata": {},
   "outputs": [
    {
     "data": {
      "text/plain": [
       "'day nice a is It'"
      ]
     },
     "execution_count": 11,
     "metadata": {},
     "output_type": "execute_result"
    }
   ],
   "source": [
    "def reversed(list):\n",
    "    return list[::-1]\n",
    "\n",
    "def reversing_words(str):\n",
    "    words = str.split(' ')\n",
    "    rev = ' '.join(reversed(words))\n",
    "    return rev\n",
    "\n",
    "reversing_words('It is a nice day')"
   ]
  },
  {
   "cell_type": "code",
   "execution_count": 12,
   "metadata": {},
   "outputs": [
    {
     "data": {
      "text/plain": [
       "'a4b2c2d1e1f3a3b1c2a1'"
      ]
     },
     "execution_count": 12,
     "metadata": {},
     "output_type": "execute_result"
    }
   ],
   "source": [
    "def str_compressions(s):\n",
    "    count, last = 1, ''\n",
    "    list_aux = []\n",
    "    for i, c in enumerate(s):\n",
    "        if last == c:\n",
    "            count += 1\n",
    "        else:\n",
    "            if i != 0:\n",
    "                list_aux.append(str(count))\n",
    "            list_aux.append(c)\n",
    "            count = 1\n",
    "            last = c\n",
    "    list_aux.append(str(count))\n",
    "    return ''.join(list_aux)\n",
    "\n",
    "str_compressions('aaaabbccdefffaaabcca')"
   ]
  },
  {
   "cell_type": "code",
   "execution_count": 13,
   "metadata": {},
   "outputs": [
    {
     "data": {
      "text/plain": [
       "(True, True, False)"
      ]
     },
     "execution_count": 13,
     "metadata": {},
     "output_type": "execute_result"
    }
   ],
   "source": [
    "def is_palindrome(s):\n",
    "    l = s.split(' ')\n",
    "    s2 = ''.join(l)\n",
    "    return s2 == s2[::-1]\n",
    "\n",
    "is_palindrome('다시 합창합시다'), is_palindrome(' '), is_palindrome('hello')"
   ]
  },
  {
   "cell_type": "code",
   "execution_count": null,
   "metadata": {},
   "outputs": [],
   "source": []
  }
 ],
 "metadata": {
  "kernelspec": {
   "display_name": "Python 3",
   "language": "python",
   "name": "python3"
  },
  "language_info": {
   "codemirror_mode": {
    "name": "ipython",
    "version": 3
   },
   "file_extension": ".py",
   "mimetype": "text/x-python",
   "name": "python",
   "nbconvert_exporter": "python",
   "pygments_lexer": "ipython3",
   "version": "3.7.4"
  }
 },
 "nbformat": 4,
 "nbformat_minor": 2
}
