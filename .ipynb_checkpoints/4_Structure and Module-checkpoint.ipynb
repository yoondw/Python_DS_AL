{
 "cells": [
  {
   "cell_type": "code",
   "execution_count": 1,
   "metadata": {},
   "outputs": [
    {
     "name": "stdout",
     "output_type": "stream",
     "text": [
      "__main__ 직접 실행됨\n"
     ]
    }
   ],
   "source": [
    "# __main__\n",
    "\n",
    "hello = 'hello'\n",
    "\n",
    "def world():\n",
    "    return 'world'\n",
    "\n",
    "if __name__ == \"__main__\":\n",
    "    print(\"{0} 직접 실행됨\".format(__name__))\n",
    "else:\n",
    "    print(\"{0} 임포트됨.\".format(__name__))"
   ]
  },
  {
   "cell_type": "code",
   "execution_count": 4,
   "metadata": {},
   "outputs": [
    {
     "data": {
      "text/plain": [
       "['C:\\\\Users\\\\Administrator\\\\Python_DS_AL',\n",
       " 'C:\\\\Users\\\\Administrator\\\\Anaconda3\\\\python37.zip',\n",
       " 'C:\\\\Users\\\\Administrator\\\\Anaconda3\\\\DLLs',\n",
       " 'C:\\\\Users\\\\Administrator\\\\Anaconda3\\\\lib',\n",
       " 'C:\\\\Users\\\\Administrator\\\\Anaconda3',\n",
       " '',\n",
       " 'C:\\\\Users\\\\Administrator\\\\AppData\\\\Roaming\\\\Python\\\\Python37\\\\site-packages',\n",
       " 'C:\\\\Users\\\\Administrator\\\\Anaconda3\\\\lib\\\\site-packages',\n",
       " 'C:\\\\Users\\\\Administrator\\\\Anaconda3\\\\lib\\\\site-packages\\\\win32',\n",
       " 'C:\\\\Users\\\\Administrator\\\\Anaconda3\\\\lib\\\\site-packages\\\\win32\\\\lib',\n",
       " 'C:\\\\Users\\\\Administrator\\\\Anaconda3\\\\lib\\\\site-packages\\\\Pythonwin',\n",
       " 'C:\\\\Users\\\\Administrator\\\\Anaconda3\\\\lib\\\\site-packages\\\\IPython\\\\extensions',\n",
       " 'C:\\\\Users\\\\Administrator\\\\.ipython']"
      ]
     },
     "execution_count": 4,
     "metadata": {},
     "output_type": "execute_result"
    }
   ],
   "source": [
    "import sys\n",
    "sys.path"
   ]
  },
  {
   "cell_type": "code",
   "execution_count": 5,
   "metadata": {},
   "outputs": [
    {
     "data": {
      "text/plain": [
       "\"\\ndef main():\\n    for arg in sys.argv[1:]:\\n        print(arg)\\n        \\nif __name__ == '__main__':\\n    main()\\n\\n------------------------------------------\\n\\npython 1_sys_example.py romio juliet\\nromio\\njuliet\\n\""
      ]
     },
     "execution_count": 5,
     "metadata": {},
     "output_type": "execute_result"
    }
   ],
   "source": [
    "# sys.argv example\n",
    "'''\n",
    "def main():\n",
    "    for arg in sys.argv[1:]:\n",
    "        print(arg)\n",
    "        \n",
    "if __name__ == '__main__':\n",
    "    main()\n",
    "\n",
    "------------------------------------------\n",
    "\n",
    "python 1_sys_example.py romio juliet\n",
    "romio\n",
    "juliet\n",
    "'''"
   ]
  },
  {
   "cell_type": "code",
   "execution_count": 6,
   "metadata": {},
   "outputs": [
    {
     "data": {
      "text/plain": [
       "'Monster'"
      ]
     },
     "execution_count": 6,
     "metadata": {},
     "output_type": "execute_result"
    }
   ],
   "source": [
    "# False : False, 0, None, empty sequence\n",
    "# True : Except False\n",
    "\n",
    "string1, string2, string3 = '', 'Monster', 'Alien'\n",
    "non_null = string1 or string2 or string3\n",
    "non_null"
   ]
  },
  {
   "cell_type": "code",
   "execution_count": 11,
   "metadata": {},
   "outputs": [
    {
     "name": "stdout",
     "output_type": "stream",
     "text": [
      "1 1 2 3 5 8 13 21 34 55 "
     ]
    }
   ],
   "source": [
    "# Return & Yield\n",
    "# return : 반환값을 반환학 메서드를 종료한 후, 호출자에게 제어를 반환\n",
    "# yield : 각 반환값을 호출자에게 반환하고, 반환값이 모두 소진되었을 경우에만 메서드가 종료\n",
    "# iterator : 컨테이너의 다음 값을 반환하는 __next__() 메서드와 이터레이터 자신을 반환하는 __iter__() 메서드를 기반으로 함.\n",
    "\n",
    "def fib_generator():\n",
    "    a,b = 0,1\n",
    "    while True:\n",
    "        yield b\n",
    "        a,b = b,a+b\n",
    "\n",
    "if __name__ == \"__main__\":\n",
    "    fib = fib_generator()\n",
    "    for i in range(10):\n",
    "        print(next(fib), end = ' ')"
   ]
  },
  {
   "cell_type": "code",
   "execution_count": 15,
   "metadata": {},
   "outputs": [
    {
     "name": "stdout",
     "output_type": "stream",
     "text": [
      "0\n",
      "1\n",
      "2\n",
      "3\n",
      "\n",
      "1\n",
      "3\n",
      "5\n",
      "7\n",
      "9\n",
      "for close\n"
     ]
    }
   ],
   "source": [
    "# break and continue\n",
    "# for문에서의 else : 반복문 종료에 실행. 단 break되었을 때는 실행되지 않음\n",
    "\n",
    "for i in range(10):\n",
    "    if i == 4:\n",
    "        break\n",
    "    print(i)\n",
    "else:\n",
    "    print('for close')\n",
    "    \n",
    "print()\n",
    "    \n",
    "for i in range(10):\n",
    "    if i%2 == 0:\n",
    "        continue\n",
    "    print(i)\n",
    "else:\n",
    "    print('for close')"
   ]
  },
  {
   "cell_type": "code",
   "execution_count": 16,
   "metadata": {},
   "outputs": [
    {
     "name": "stdout",
     "output_type": "stream",
     "text": [
      "index : 0, value : a\n",
      "index : 1, value : b\n",
      "index : 2, value : c\n",
      "index : 3, value : d\n",
      "index : 4, value : e\n"
     ]
    }
   ],
   "source": [
    "# enumerate\n",
    "\n",
    "lst = ['a','b','c','d','e']\n",
    "for i, j in enumerate(lst):\n",
    "    print('index : {}, value : {}'.format(i,j))"
   ]
  },
  {
   "cell_type": "code",
   "execution_count": 17,
   "metadata": {},
   "outputs": [
    {
     "name": "stdout",
     "output_type": "stream",
     "text": [
      "<zip object at 0x00000249C75CFF48> [(1, 'a'), (2, 'b'), (3, 'c'), (4, 'd')]\n"
     ]
    }
   ],
   "source": [
    "# zip\n",
    "\n",
    "a = [1,2,3,4,5]\n",
    "b = ['a','b','c','d']\n",
    "print(zip(a,b),list(zip(a,b)))"
   ]
  },
  {
   "cell_type": "code",
   "execution_count": 18,
   "metadata": {},
   "outputs": [
    {
     "name": "stdout",
     "output_type": "stream",
     "text": [
      "False True\n"
     ]
    },
    {
     "data": {
      "text/plain": [
       "[5, 7, 11, 13, 17, 19, 23]"
      ]
     },
     "execution_count": 18,
     "metadata": {},
     "output_type": "execute_result"
    }
   ],
   "source": [
    "# filter : sequence의 항목 중 함수 조건이 참인 항목만 추출해서 구성된 시퀀스를 반환\n",
    "\n",
    "def f(x) : return x % 2 != 0 and x % 3 != 0\n",
    "\n",
    "print(f(33), f(17))\n",
    "list(filter(f, range(2,25)))"
   ]
  },
  {
   "cell_type": "code",
   "execution_count": 19,
   "metadata": {},
   "outputs": [
    {
     "name": "stdout",
     "output_type": "stream",
     "text": [
      "[1, 8, 27, 64, 125, 216, 343, 512, 729, 1000]\n",
      "[(0, 0), (1, 1), (2, 4), (3, 9), (4, 16), (5, 25), (6, 36), (7, 49)]\n"
     ]
    }
   ],
   "source": [
    "# map(function, list) : 시퀀스의 모든 항목에 함수를 적용한 결과 리스트를 반환\n",
    "\n",
    "def cube(x) : return x*x*x\n",
    "print(list(map(cube, range(1,11))))\n",
    "\n",
    "seq = range(8)\n",
    "def square(x) : return x*x\n",
    "print(list(zip(seq, map(square, seq))))"
   ]
  },
  {
   "cell_type": "code",
   "execution_count": 20,
   "metadata": {},
   "outputs": [
    {
     "name": "stdout",
     "output_type": "stream",
     "text": [
      "10.0 10.0\n"
     ]
    }
   ],
   "source": [
    "# lambda function\n",
    "# 사용법 : lambda 변수 : 함수\n",
    "\n",
    "def area(b, h):\n",
    "    return 0.5 * b * h\n",
    "\n",
    "area_lambda = lambda b, h : 0.5 * b * h\n",
    "\n",
    "print(area(5,4), area_lambda(5,4))"
   ]
  },
  {
   "cell_type": "code",
   "execution_count": 21,
   "metadata": {},
   "outputs": [
    {
     "data": {
      "text/plain": [
       "'\\nopen(filename, mode, encoding) : 파일 객체 반환.\\n    mode : \\n        r : 읽기\\n        w : 쓰기\\n        a : 추가\\n        r+ : 읽기와 쓰기\\n        t : 텍스트\\n        b : 바이너리\\n        \\nread(size) : 파일에서 size만큼의 내용을 읽고, 문자열로 반환. size 생략 : 전체 파일의 내용 읽고 반환\\nreadline() : 한 줄 읽기\\nreadlines() : 파일의 모든 데이터 행을 포함한 리스트 반환. readlines(size) : 파일에서 해당 바이트 수만큼 읽고 한 행을 완성하는데 필요한 만큼 더 읽어서 반환\\nwrite() : 데이터를 파일에 쓰고, None을 반환\\ntell() : 현재 위치 나타내는 정수 반환\\nseek(offset, from-what) : 파일 내 탐색 위치를 변경할 때 사용. from-what이 0 : 파일의 처음 위치, 1 : 파일의 현재 위치, 2 : 파일의 마지막 위치\\nclose() : 파일을 닫고, 시스템 자원 해제, 성공적으로 반환하면 True 반환\\ninput() : 사용자의 입력 받음\\n'"
      ]
     },
     "execution_count": 21,
     "metadata": {},
     "output_type": "execute_result"
    }
   ],
   "source": [
    "# 파일 처리 method\n",
    "\n",
    "'''\n",
    "open(filename, mode, encoding) : 파일 객체 반환.\n",
    "    mode : \n",
    "        r : 읽기\n",
    "        w : 쓰기\n",
    "        a : 추가\n",
    "        r+ : 읽기와 쓰기\n",
    "        t : 텍스트\n",
    "        b : 바이너리\n",
    "        \n",
    "read(size) : 파일에서 size만큼의 내용을 읽고, 문자열로 반환. size 생략 : 전체 파일의 내용 읽고 반환\n",
    "readline() : 한 줄 읽기\n",
    "readlines() : 파일의 모든 데이터 행을 포함한 리스트 반환. readlines(size) : 파일에서 해당 바이트 수만큼 읽고 한 행을 완성하는데 필요한 만큼 더 읽어서 반환\n",
    "write() : 데이터를 파일에 쓰고, None을 반환\n",
    "tell() : 현재 위치 나타내는 정수 반환\n",
    "seek(offset, from-what) : 파일 내 탐색 위치를 변경할 때 사용. from-what이 0 : 파일의 처음 위치, 1 : 파일의 현재 위치, 2 : 파일의 마지막 위치\n",
    "close() : 파일을 닫고, 시스템 자원 해제, 성공적으로 반환하면 True 반환\n",
    "input() : 사용자의 입력 받음\n",
    "'''"
   ]
  },
  {
   "cell_type": "code",
   "execution_count": 22,
   "metadata": {},
   "outputs": [
    {
     "name": "stdout",
     "output_type": "stream",
     "text": [
      "Enter a number : a\n",
      "Not a number. Please enter again.\n",
      "Enter a number : -\n",
      "Not a number. Please enter again.\n",
      "Enter a number : 12\n"
     ]
    }
   ],
   "source": [
    "# handling errors\n",
    "\n",
    "'''\n",
    "try:\n",
    "    예외 발생이 예측되는 코드\n",
    "except 예외1 as 예외_변수1:\n",
    "    예외 처리 1\n",
    "....\n",
    "except 예외n as 예외_변수n:\n",
    "    예외 처리 n\n",
    "'''\n",
    "\n",
    "while True:\n",
    "    try:\n",
    "        x = int(input(\"Enter a number : \"))\n",
    "        break\n",
    "    except ValueError:\n",
    "        print(\"Not a number. Please enter again.\")"
   ]
  },
  {
   "cell_type": "code",
   "execution_count": null,
   "metadata": {},
   "outputs": [],
   "source": []
  }
 ],
 "metadata": {
  "kernelspec": {
   "display_name": "Python 3",
   "language": "python",
   "name": "python3"
  },
  "language_info": {
   "codemirror_mode": {
    "name": "ipython",
    "version": 3
   },
   "file_extension": ".py",
   "mimetype": "text/x-python",
   "name": "python",
   "nbconvert_exporter": "python",
   "pygments_lexer": "ipython3",
   "version": "3.7.4"
  }
 },
 "nbformat": 4,
 "nbformat_minor": 2
}
