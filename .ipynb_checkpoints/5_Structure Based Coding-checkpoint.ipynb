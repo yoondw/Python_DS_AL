{
 "cells": [
  {
   "cell_type": "code",
   "execution_count": 1,
   "metadata": {},
   "outputs": [
    {
     "name": "stdout",
     "output_type": "stream",
     "text": [
      "False\n",
      "False\n",
      "2\n"
     ]
    }
   ],
   "source": [
    "# Polymorphism\n",
    "\n",
    "class Symbol(object):\n",
    "    def __init__(self, value):\n",
    "        self.value = value\n",
    "        \n",
    "if __name__ == \"__main__\":\n",
    "    x = Symbol('py')\n",
    "    y = Symbol('py')\n",
    "    \n",
    "    symbols = set()\n",
    "    symbols.add(x)\n",
    "    symbols.add(y)\n",
    "    \n",
    "    print(x is y)\n",
    "    print(x == y)\n",
    "    print(len(symbols))"
   ]
  },
  {
   "cell_type": "code",
   "execution_count": 2,
   "metadata": {},
   "outputs": [],
   "source": [
    "# Class example : circle 구현\n",
    "\n",
    "import math\n",
    "\n",
    "class Point(object):\n",
    "    def __init__(self, x=0, y=0):\n",
    "        self.x = x\n",
    "        self.y = y\n",
    "        \n",
    "    def distance_from_origin(self):\n",
    "        return math.hypot(self.x, self.y)\n",
    "    \n",
    "    def __eq__(self, other):\n",
    "        return self.x == other.x and self.y == other.y\n",
    "    \n",
    "    def __repr__(self):\n",
    "        return 'point ({0.x!r}, {0.y!r})'.format(self)\n",
    "    \n",
    "    def __str__(self):\n",
    "        return '({0.x!r}, {0.y!r})'.format(self)\n",
    "    \n",
    "class Circle(Point):\n",
    "    def __init__(self, radius, x=0, y=0):\n",
    "        super().__init__(x, y)\n",
    "        self.radius = radius\n",
    "        \n",
    "    def edge_distance_from_origin(self):\n",
    "        return abs(self.distance_from_origin() - self.radius)\n",
    "    \n",
    "    def area(self):\n",
    "        return math.pi * (self.radius ** 2)\n",
    "    \n",
    "    def circumference(self):\n",
    "        return 2 * math.pi * self.radius\n",
    "    \n",
    "    def __eq__(self, other):\n",
    "        return self.radius == other.radius and super().__eq__(other)\n",
    "    \n",
    "    def __repr__(self):\n",
    "        return 'circle ({0.radius!r}, {0.x!r})'.format(self)\n",
    "    \n",
    "    def __str__(self):\n",
    "        return repr(self)"
   ]
  },
  {
   "cell_type": "code",
   "execution_count": 3,
   "metadata": {},
   "outputs": [
    {
     "data": {
      "text/plain": [
       "point (3, 4)"
      ]
     },
     "execution_count": 3,
     "metadata": {},
     "output_type": "execute_result"
    }
   ],
   "source": [
    "a = Point(3,4)\n",
    "a"
   ]
  },
  {
   "cell_type": "code",
   "execution_count": 4,
   "metadata": {},
   "outputs": [
    {
     "data": {
      "text/plain": [
       "'point (3, 4)'"
      ]
     },
     "execution_count": 4,
     "metadata": {},
     "output_type": "execute_result"
    }
   ],
   "source": [
    "repr(a)"
   ]
  },
  {
   "cell_type": "code",
   "execution_count": 5,
   "metadata": {},
   "outputs": [
    {
     "data": {
      "text/plain": [
       "'(3, 4)'"
      ]
     },
     "execution_count": 5,
     "metadata": {},
     "output_type": "execute_result"
    }
   ],
   "source": [
    "str(a)"
   ]
  },
  {
   "cell_type": "code",
   "execution_count": 6,
   "metadata": {},
   "outputs": [
    {
     "data": {
      "text/plain": [
       "5.0"
      ]
     },
     "execution_count": 6,
     "metadata": {},
     "output_type": "execute_result"
    }
   ],
   "source": [
    "a.distance_from_origin()"
   ]
  },
  {
   "cell_type": "code",
   "execution_count": 7,
   "metadata": {},
   "outputs": [
    {
     "data": {
      "text/plain": [
       "circle (3, 2)"
      ]
     },
     "execution_count": 7,
     "metadata": {},
     "output_type": "execute_result"
    }
   ],
   "source": [
    "c = Circle(3,2,1)\n",
    "c"
   ]
  },
  {
   "cell_type": "code",
   "execution_count": 8,
   "metadata": {},
   "outputs": [
    {
     "data": {
      "text/plain": [
       "'circle (3, 2)'"
      ]
     },
     "execution_count": 8,
     "metadata": {},
     "output_type": "execute_result"
    }
   ],
   "source": [
    "repr(c)"
   ]
  },
  {
   "cell_type": "code",
   "execution_count": 9,
   "metadata": {},
   "outputs": [
    {
     "data": {
      "text/plain": [
       "'circle (3, 2)'"
      ]
     },
     "execution_count": 9,
     "metadata": {},
     "output_type": "execute_result"
    }
   ],
   "source": [
    "str(c)"
   ]
  },
  {
   "cell_type": "code",
   "execution_count": 10,
   "metadata": {},
   "outputs": [
    {
     "data": {
      "text/plain": [
       "18.84955592153876"
      ]
     },
     "execution_count": 10,
     "metadata": {},
     "output_type": "execute_result"
    }
   ],
   "source": [
    "c.circumference()"
   ]
  },
  {
   "cell_type": "code",
   "execution_count": 11,
   "metadata": {},
   "outputs": [
    {
     "data": {
      "text/plain": [
       "0.7639320225002102"
      ]
     },
     "execution_count": 11,
     "metadata": {},
     "output_type": "execute_result"
    }
   ],
   "source": [
    "c.edge_distance_from_origin()"
   ]
  },
  {
   "cell_type": "code",
   "execution_count": 13,
   "metadata": {},
   "outputs": [
    {
     "name": "stdout",
     "output_type": "stream",
     "text": [
      "random_tree 0.022795900000119218\n"
     ]
    }
   ],
   "source": [
    "# benchmark\n",
    "\n",
    "import random\n",
    "import time\n",
    "\n",
    "def benchmark(func):\n",
    "    def wrapper(*args, **kwargs):\n",
    "        t = time.perf_counter()\n",
    "        res = func(*args, **kwargs)\n",
    "        print(\"{0} {1}\".format(func.__name__, time.perf_counter() - t))\n",
    "        return res\n",
    "    return wrapper\n",
    "\n",
    "@benchmark\n",
    "def random_tree(n):\n",
    "    temp = [n for n in range(n)]\n",
    "    for i in range(n+1):\n",
    "        temp[random.choice(temp)] = random.choice(temp)\n",
    "    return temp\n",
    "# @benchmark는 여기에 random_tree = benchmark(random_tree) 한 효과와 같다\n",
    "\n",
    "if __name__ == '__main__':\n",
    "    random_tree(10000)"
   ]
  },
  {
   "cell_type": "code",
   "execution_count": 14,
   "metadata": {},
   "outputs": [
    {
     "name": "stdout",
     "output_type": "stream",
     "text": [
      "foo(<__main__.A object at 0x0000019854FD8EC8>, 1) 실행\n",
      "class_foo(<class '__main__.A'> 2) 실행 : True\n",
      "class_foo(<class '__main__.A'> 2) 실행 : True\n",
      "static_foo(3) 실행\n",
      "static_foo(3) 실행\n"
     ]
    }
   ],
   "source": [
    "# @classmethod and @staticmethod\n",
    "\n",
    "# 각각 메서드를 클래스와 정적 메소드로 변환\n",
    "# @classmethod는 첫 번째 인수로 cls를 사용하고, @staticmethod는 첫 번째 인수에 self 혹은 cls가 없음\n",
    "# 클래스 내 변수에 접근하려면 @classmethod의 첫 번째 인수를 사용할 수 있음\n",
    "\n",
    "class A(object):\n",
    "    _hello = True\n",
    "    \n",
    "    def foo(self, x):\n",
    "        print('foo({0}, {1}) 실행'.format(self, x))\n",
    "    \n",
    "    @classmethod\n",
    "    def class_foo(cls, x):\n",
    "        print('class_foo({0} {1}) 실행 : {2}'.format(cls, x, cls._hello))\n",
    "        \n",
    "    @staticmethod\n",
    "    def static_foo(x):\n",
    "        print('static_foo({0}) 실행'.format(x))\n",
    "        \n",
    "if __name__ == '__main__':\n",
    "    a = A()\n",
    "    a.foo(1)\n",
    "    a.class_foo(2)\n",
    "    A.class_foo(2)\n",
    "    a.static_foo(3)\n",
    "    A.static_foo(3)"
   ]
  },
  {
   "cell_type": "code",
   "execution_count": null,
   "metadata": {},
   "outputs": [],
   "source": []
  }
 ],
 "metadata": {
  "kernelspec": {
   "display_name": "Python 3",
   "language": "python",
   "name": "python3"
  },
  "language_info": {
   "codemirror_mode": {
    "name": "ipython",
    "version": 3
   },
   "file_extension": ".py",
   "mimetype": "text/x-python",
   "name": "python",
   "nbconvert_exporter": "python",
   "pygments_lexer": "ipython3",
   "version": "3.7.4"
  }
 },
 "nbformat": 4,
 "nbformat_minor": 2
}
